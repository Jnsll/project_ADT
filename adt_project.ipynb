{
 "cells": [
  {
   "cell_type": "code",
   "execution_count": 1,
   "metadata": {
    "collapsed": false
   },
   "outputs": [],
   "source": [
    "#!/usr/bin/python\n",
    "#coding: utf-8\n",
    "\n",
    "import re, glob\n",
    "dirname='/media/DATA/Master/Analyse_donnees_text/data_suj1/train/'\n",
    "d_entities={}\n",
    "files=glob.glob(dirname+'*.ent')\n",
    "for file in files:\n",
    "    with open(file, 'r') as f_in :\n",
    "        for line in f_in :\n",
    "            line = re.sub(r'\\n', '', line)\n",
    "            numId = re.sub(r\"(.+)\\t([A-Z][a-z]+)\\t(.+)\", r'\\1', line)\n",
    "            cat = re.sub(r\"(.+)\\t([A-Z][a-z]+)\\t(.+)\", r'\\2', line)\n",
    "            nom = re.sub(r\"(.+)\\t([A-Z][a-z]+)\\t([0-9]+-[0-9]+) ([A-Za-z]+)\", r'\\4', line)\n",
    "            if re.match(r\"[0-9]+\", numId) and nom not in d_entities:\n",
    "                d_entities[nom]=cat\n",
    "#print(d_entities)"
   ]
  },
  {
   "cell_type": "code",
   "execution_count": 3,
   "metadata": {
    "collapsed": false
   },
   "outputs": [
    {
     "name": "stdout",
     "output_type": "stream",
     "text": [
      "{'Gastrointestinal': 'HostPart', 'equipment': 'Environment', 'sugar cane stems': 'HostPart', 'Propella biofilm reactor': 'Environment', 'light harvesting antenna': 'HostPart', 'Guadeloupe': 'Geographical', 'complex media': 'Environment', 'cattle': 'Host', 'Oryza sativa L': 'Host', 'radioactive waste': 'Environment', 'tuberculoid granulomas with caseous lesions': 'HostPart', 'extracellular': 'HostPart', 'Utah': 'Geographical', 'guar gum': 'HostPart', 'insect endosymbiont': 'HostPart', 'woody perennials': 'Host', 'Cuba': 'Geographical', 'British soldiers': 'Host', 'north of France': 'Geographical', 'Euprymna scolopes': 'Host', 'intestinal tract of': 'HostPart', 'United States': 'Geographical', 'Lake Magadi': 'Geographical', 'soil contaminated with PCBs': 'Soil', 'fruit trees': 'Host', 'infected males being converted into functional phenotypic females': 'Host', 'women': 'Host', 'aquatic environments': 'Water', 'cell': 'HostPart', 'seeds': 'HostPart', 'sugar cane': 'Host', 'light organ': 'HostPart', 'citrus': 'Host', 'worldwide': 'Geographical', 'almonds': 'Host', 'farm animals': 'Host', 'formula fed infants': 'Host', 'Drosophila': 'Host', 'contaminated substances': 'Environment', 'humidifiers': 'Medical', 'low oxic': 'Water', 'sea': 'Water', 'splenic abscess': 'HostPart', 'low organic carbon concentration': 'Environment', 'saprophytes': 'Environment', 'ovoid bodies surrounded by a lipid monolayer and filled with more than ': 'HostPart', 'South East Asia': 'Geographical', 'louse': 'Host', 'grass': 'Host', 'DOE': 'Geographical', 'deep': 'Environment', 'Europe': 'Geographical', 'squid': 'Host', 'Brassica': 'Host', 'acidic mineral environments': 'Environment', 'infected plant material': 'HostPart', 'tsetse midgut': 'HostPart', 'abscess': 'HostPart', 'digestive tract': 'HostPart', 'patients with severe infection': 'Host', 'haemolymph of the insect': 'HostPart', 'flagellum': 'HostPart', 'molecular diagnostic tools': 'Environment', 'water of a cooling tower of a sugar': 'Water', 'cheese': 'Food', 'flowing water': 'Water', 'Shiaskotan Island': 'Geographical', 'resistant varieties of sugar cane': 'Host', 'hot springs in New Zealand': 'Water', 'sheath': 'HostPart', 'water system': 'Water', 'mosquitoes': 'Host', 'team of researchers': 'Host', 'sheep': 'Host', 'infected males': 'Host', 'hot springs': 'Water', 'laboratory': 'Environment', 'people': 'Host', 'Taiwan': 'Geographical', 'bodies': 'HostPart', 'Men': 'Host', 'animal faeces': 'Environment', 'rats': 'Host', 'Ornithodoros turicatae': 'Host', 'cerebrospinal fluid': 'HostPart', 'legume Aeschynomene indica': 'Host', 'tropical': 'Environment', 'skin': 'HostPart', 'cat': 'Host', 'Feces': 'HostPart', 'endospore': 'HostPart', 'western hemisphere': 'Geographical', 'tropical Asian countries': 'Geographical', 'animal intestines': 'HostPart', 'iron': 'Environment', 'micro': 'Host', 'endosymbiont': 'HostPart', 'plant roots': 'HostPart', 'rodents': 'Host', 'soil': 'Soil', 'biofilm': 'Environment', 'small ruminants': 'Host', 'infected females reproducing in the absence of mating': 'Host', 'pipe': 'Environment', 'gut': 'HostPart', 'antimicrobial': 'Environment', 'Mono Lake': 'Geographical', 'in vivo': 'Host', 'terrestrial crustaceans': 'Host', 'murine': 'Host', 'cell end': 'HostPart', 'light': 'HostPart', 'photosynthetic apparatus': 'HostPart', 'intestinal environment': 'HostPart', 'back': 'HostPart', 'wastewater treatment plants': 'Environment', 'star coral': 'Host', 'leg ulcers': 'HostPart', 'human cells': 'HostPart', 'alpha': 'Environment', 'Researchers': 'Host', 'vertebrate blood': 'HostPart', 'farms': 'Environment', 'Deep tissue': 'HostPart', 'mucous membranes': 'HostPart', 'microbial': 'Host', 'mammalian liver': 'HostPart', 'urogenital tracts of humans': 'HostPart', 'high temperature equipment': 'Environment', 'onion tissue': 'HostPart', 'New York': 'Geographical', 'warm seawater': 'Water', 'infected infant in Germany': 'Host', 'marshes': 'Environment', 'temperature probes': 'Medical', 'diarrhea stools of infected individuals': 'Environment', 'louse interior': 'HostPart', 'of ponds': 'Environment', 'animal feces': 'Environment', 'landfill contaminated by PCB': 'Soil', 'Brazil': 'Geographical', 'patient': 'Host', 'east Africa': 'Geographical', 'crops': 'Host', 'yeast extract': 'Environment', 'birds': 'Host', 'offspring': 'Host', 'Pasteur Institute': 'Geographical', 'blood stream': 'HostPart', 'squid Euprymna scolopes': 'Host', 'in vitro': 'Environment', 'GIT': 'HostPart', 'mosquito ': 'Environment', 'cyanobacterial mats of hot springs in Utah': 'Environment', 'enormous antennae': 'HostPart', 'lymphatics': 'HostPart', 'biofilms': 'Environment', 'progeny': 'Host', 'patients': 'Host', 'community': 'Host', 'sea water': 'Water', 'abdominal': 'HostPart', 'infected individuals': 'Host', 'contaminated harvesting tools': 'Environment', 'sausage': 'Food', 'larval': 'Host', 'dead insects': 'Environment', 'young adults': 'Host', 'raw': 'Food', 'Institut Pasteur scientist': 'Host', 'eukaryotic': 'Host', 'North Carolina State University': 'Geographical', 'potent drugs': 'Medical', 'mitochondria': 'HostPart', 'graft recipients': 'Host', 'bones': 'HostPart', 'coral': 'Host', 'Japanese man': 'Host', 'grass root': 'HostPart', 'D': 'Host', 'intensive care unit': 'Medical', 'cut': 'HostPart', 'tissue': 'HostPart', 'lining of the small intestine': 'HostPart', 'acidic environment': 'Environment', 'water of a polluted pond': 'Water', 'Humans': 'Host', 'oxic': 'Water', 'soil aggregates less than ': 'Soil', 'coffee': 'Host', 'pigs': 'Host', 'plants roots': 'HostPart', 'NY': 'Geographical', 'opportunistic feeders': 'Host', 'dead larvae': 'Environment', 'sulfide': 'Environment', 'intestine': 'HostPart', 'agro': 'Environment', 'citrus fruits': 'HostPart', 'xylem': 'HostPart', 'abattoir workers': 'Host', 'animal filarial parasites': 'Host', 'tuberculosis researchers': 'Host', 'Palm Oil Mill Effluent': 'Water', 'aerosolized': 'Environment', 'Peru': 'Geographical', 'adult patient': 'Host', 'guar': 'Host', 'areas': 'Environment', 'Drosophila melanogaster': 'Host', 'estuaries': 'Environment', 'stem isolates': 'HostPart', 'stomach': 'HostPart', 'infant': 'Host', 'cold soil': 'Soil', 'Australia': 'Geographical', 'Lake Khatyn': 'Geographical', 'US centers for Disease Control': 'Geographical', 'urogenital': 'HostPart', 'contaminated soil': 'Soil', 'insect vectors': 'Host', 'river sediment': 'Environment', 'phytopathogens': 'Host', 'bird feces': 'Environment', 'weeds': 'Host', 'malnutrition': 'Host', 'flagellar': 'HostPart', 'adult humans': 'Host', 'People': 'Host', 'dust particles': 'Environment', 'twig': 'HostPart', 'epithelial layer': 'HostPart', 'exoskeleton': 'HostPart', 'Human': 'Host', 'onion': 'Host', 'ants': 'Host', 'biological weapons': 'Environment', 'mammalian': 'Host', 'birds that have a larger mass': 'Host', 'PCB': 'Environment', 'agricultural soil': 'Soil', 'bovine': 'Host', 'insect': 'Host', 'outer': 'HostPart', 'body lice': 'Host', 'Germany': 'Geographical', 'cows': 'Host', 'soil area surrounding plant roots': 'Soil', 'extra growth medium such as': 'Environment', 'China': 'Geographical', 'leafhoppers': 'Host', 'Brazilian': 'Geographical', 'oral': 'HostPart', 'plum': 'Host', 'patients who also have': 'Host', 'bloody stool': 'HostPart', 'Fluid': 'HostPart', 'spiders': 'Host', 'plant': 'Host', 'The Pennsylvania State University': 'Geographical', 'patient with neuroborreliosis': 'Host', 'diary products': 'Food', 'stem': 'HostPart', 'mucosal surfaces of': 'HostPart', 'person with untreated pulmonary TB': 'Host', 'crop': 'Environment', 'Broncho': 'HostPart', 'raw ham': 'Food', 'hospital': 'Medical', 'intestines': 'HostPart', 'kangaroo': 'Host', 'patients treated with erythromycin': 'Host', 'humans': 'Host', 'endosymbiont of Drosophila melanogaster': 'HostPart', 'colleagues': 'Host', 'foliar mesophyll': 'HostPart', 'domestic animals': 'Host', 'prey': 'Host', 'parasitic filarial nematodes': 'Host', 'Perso ns who are immunocompromised': 'Host', 'Sheath': 'HostPart', 'trichomes': 'HostPart', 'extragenital': 'HostPart', 'southwestern United States': 'Geographical', 'of the insect': 'HostPart', 'equipment in hospitals': 'Medical', 'shrubs': 'Host', 'immune cells': 'HostPart', 'laboratory animals': 'Host', 'cool soil environments': 'Soil', 'flagella that lie in the periplasmic space and extend from both ends toward the middle of the organism': 'HostPart', 'hydrothermal vent water': 'Water', 'citrus leaf miner': 'Host', 'undercooked meat': 'Food', 'large chromosome': 'HostPart', 'formate': 'Environment', 'patient with whooping cough': 'Host', 'Brugia malayi': 'Host', 'bloodstream': 'HostPart', 'lymph nodes': 'HostPart', 'meat': 'Food', 'milk industry': 'Environment', 'anaerobic bioreactors': 'Environment', 'intestinal tract of animals': 'HostPart', 'air': 'Environment', 'Trees': 'Host', 'Camponotus': 'Host', 'vertebrate': 'Host', 'goats in Europe': 'Host', 'underdeveloped countries': 'Geographical', 'sweet stems': 'HostPart', 'respiratory': 'HostPart', 'oxidative environment': 'Environment', 'rhizosphere': 'HostPart', 'anoxic sulfide containing water ': 'Water', 'central nervous system': 'HostPart', 'Mauritius': 'Geographical', 'high': 'Host', 'Ixodes scapularis': 'Host', 'tissues of ancient mummies': 'Environment', 'innate ': 'HostPart', 'paper mill slimes': 'Environment', 'Amazon': 'Geographical', 'mammalian GIT': 'HostPart', 'filarial parasites': 'Host', 'Glossinia morsitans morsitans': 'Host', 'Wound': 'HostPart', 'homeless people living in France': 'Host', 'chlorosomes': 'HostPart', 'tick': 'Host', 'organic pollutants': 'Environment', 'highly alkaline anaerobic environment of Mono Lake': 'Environment', 'antibiotic': 'Environment', 'eukaryotes': 'Host', 'Glossina morsitans morsitans': 'Host', 'thick cell wall': 'HostPart', 'central Baltic Sea': 'Geographical', 'urinary tract': 'HostPart', 'neonatal': 'Host', 'infected human body lice': 'Host', 'rhizosphere of plants': 'HostPart', 'Ticks': 'Host', 'petroleum reservoirs': 'Environment', 'branchial lesions': 'HostPart', 'aerosols': 'Environment', 'France': 'Geographical', 'products': 'Food', 'filarial nematode': 'Host', 'Middle East': 'Geographical', 'wheat': 'Host', 'leg': 'HostPart', 'Cell': 'HostPart', 'low oxic water': 'Water', 'bug': 'Host', 'acid': 'Environment', 'Department of Population Health and Pathobiology': 'Geographical', 'open skin wounds': 'HostPart', 'chicken': 'Food', 'skin lesion from a Lyme disease patient in Europe': 'HostPart', 'stems': 'HostPart', 'tsetse puparia': 'Host', 'atmospheric': 'Environment', 'membranes': 'HostPart', 'sugar cane crops': 'Environment', 'Africa': 'Geographical', 'terrestrial habitats': 'Environment', 'phytopathogenic': 'Host', 'extra growth medium such as glutamate': 'Environment', 'urogenital tracts': 'HostPart', 'fishes': 'Host', 'temperate zones': 'Environment', 'human immune system': 'HostPart', 'wombat': 'Host', 'blood': 'HostPart', 'raw milk': 'Food', 'sharpshooters': 'Host', 'soft': 'Host', 'alfalfa': 'Host', 'CF patients': 'Host', 'aerobic': 'Environment', 'coal mine lake sediment': 'Soil', 'shellfish': 'Food', 'rat': 'Host', 'Palm Oil': 'Food', 'flagellated': 'HostPart', 'constant microaerophilic environment': 'Environment', 'decomposing fruit': 'Environment', 'regions in which salmoniculture is practiced': 'Environment', 'host cells': 'HostPart', 'microbe': 'Host', 'flagella': 'HostPart', 'sewage': 'Water', 'Pediculus humanus': 'Host', 'Mars': 'Geographical', 'USA': 'Geographical', 'children under the age of five': 'Host', 'tsetse immune system': 'HostPart', 'cyanobacterial mats of hot springs in': 'Environment', 'vegetative cells': 'HostPart', 'food': 'Food', 'midgut': 'HostPart', 'germline': 'HostPart', 'S': 'HostPart', 'ruminants': 'Host', 'elongated cells': 'HostPart', 'flagella at both poles': 'HostPart', 'surface': 'Environment', 'South': 'Geographical', 'dust': 'Environment', 'intestinal epithelium': 'HostPart', 'microbial mats': 'Environment', 'Bordeaux Bioinformatics Center': 'Geographical', 'domesticated animals': 'Host', 'tannish': 'HostPart', 'human gastrointestinal tract': 'HostPart', 'cellulose': 'Environment', 'French': 'Geographical', 'luminescent': 'Host', 'enteroinvasive': 'HostPart', 'adult Drosophila': 'Host', 'northern Australia': 'Geographical', 'severely infested fields': 'Environment', 'locomotor apparatus': 'HostPart', 'chlorosome': 'HostPart', 'French researchers': 'Host', 'enteric': 'HostPart', 'ltic Sea': 'Geographical', 'citrus leaf': 'HostPart', 'Hong Kong': 'Geographical', 'Mariana Trench': 'Geographical', 'farm': 'Environment', 'clinical specimens': 'Medical', 'smallest free': 'Host', 'Lyme disease patient in Europe': 'Host', 'crucifers': 'Host', 'haemolymph of Glossinia morsitans morsitans': 'HostPart', 'tropical countries': 'Environment', 'bio': 'Environment', 'wild or domesticated animal': 'Host', 'Texas': 'Geographical', 'foodborn': 'Food', 'marine species': 'Host', 'of newborn infants': 'HostPart', 'hydrotelluric environment': 'Environment', 'Japan': 'Geographical', 'sugar cane cuttings': 'HostPart', 'Florida Keys': 'Geographical', 'Lake Blankvann': 'Geographical', 'carcass': 'Environment', 'T': 'Host', 'brain': 'HostPart', 'outer membrane': 'HostPart', 'freshwater hot spring': 'Water', 'light organs': 'HostPart', 'squirrel': 'Host', 'patients undergoing chronic ambulatory dialysis': 'Host', 'nitrogen': 'Soil', 'other organs': 'HostPart', 'Arabidopsis': 'Host', 'cytoplasmic membranes': 'HostPart', 'cytoplasm of eukaryotic cells': 'HostPart', 'animal products': 'Food', 'in Europe': 'Host', 'vascular': 'HostPart', 'rum': 'Food', 'stratified lakes': 'Water', 'sediments': 'Environment', 'genital': 'HostPart', 'grapevines': 'Host', 'biofuel': 'Environment', 'subtropical areas': 'Environment', 'body': 'HostPart', 'areas where filariasis is common': 'Environment', 'lymphoma': 'Host', 'New Zealand': 'Geographical', 'tsetse fly': 'Host', 'Cells': 'HostPart', 'healthy individuals': 'Host', 'Asian': 'Host', 'tropical areas of the world': 'Environment', 'phagocytes': 'HostPart', 'flea': 'Host', 'Albert Einstein College of Medicine': 'Geographical', 'nosocomial': 'Medical', 'animal probiotics': 'Food', 'raw food': 'Food', 'Glossina spp': 'Host', 'coastal waters': 'Water', 'river': 'Water', 'male': 'Host', 'intra': 'Host', 'cavity': 'HostPart', 'small intestine': 'HostPart', 'person with untreated TB': 'Host', 'intestinal tract': 'HostPart', 'immunodepressed subjects': 'Host', 'newborn infants': 'Host', 'lakes': 'Water', 'drinking water': 'Food', 'macrophage': 'HostPart', 'infected male embryos': 'Host', 'abrasion': 'HostPart', 'shower curtain biofilms': 'Environment', 'rivers': 'Water', 'diagnostic equipment': 'Environment', 'children': 'Host', 'chromosome ': 'HostPart', 'Asia': 'Geographical', 'infected female offspring': 'Host', 'Aeschynomene': 'Host', 'sausages': 'Food', 'microaerophilic environment': 'Environment', 'tsetse': 'Host', 'anoxic environments': 'Environment', 'intracellularly in Aedes albopictus': 'HostPart', 'grapes': 'Host', 'oceans': 'Water', 'Sugar cane fields': 'Environment', 'fruit': 'HostPart', 'Sanger Institute': 'Geographical', 'anoxic basin': 'Water', 'peptidoglycan layer': 'HostPart', 'higher plants': 'Host', 'chicken meat': 'Food', 'freshwater': 'Water', 'semidefined solid medium containing already enzimatically digested proteins': 'Environment', 'California': 'Geographical', 'nodules': 'HostPart', 'production facilities': 'Environment', 'environment that contains a reduced concentration of oxygen ': 'Environment', 'adult': 'Host', 'jejunum in the small intestines': 'HostPart', 'flea midgut': 'HostPart', 'roots of these plants': 'HostPart', 'freshwaters': 'Water', 'infant feces': 'HostPart', 'scientists': 'Host', 'formula': 'Food', 'fresh': 'Water', 'linear chromosome': 'HostPart', 'stagnant water': 'Water', 'bite of the brown dog tick': 'HostPart', 'river water': 'Water', 'Birds that are feeding on invertebrates': 'Host', 'carriers': 'Host', 'gas vesicles': 'HostPart', 'canker lesions': 'HostPart', 'mammary': 'HostPart', 'Florida Reef Tract': 'Geographical', 'grass plants': 'Host', 'fuel': 'Environment', 'persons with cystic fibrosis': 'Host', 'cellularly': 'HostPart', 'College of Veterinary Medicine': 'Geographical', 'surface water': 'Water', 'corn': 'Host', 'human': 'Host', 'brown dog tick': 'Host', 'wastewater': 'Water', 'ABF pigs': 'Host', 'Florida': 'Geographical', 'organ': 'HostPart', 'compromised hosts': 'Host', 'breaks in the skin': 'HostPart', 'helical protoplasmic cylinder': 'HostPart', 'sinks': 'Medical', 'gut mucosa': 'HostPart', 'soil environments': 'Soil', 'insects': 'Host', 'soft tissue': 'HostPart', 'cells': 'HostPart', 'bottle water': 'Food', 'soils': 'Soil', 'Aeschynomene stem nodule': 'HostPart', 'in the small intestines': 'HostPart', 'mucosal surfaces of birds': 'HostPart', 'plants with dust': 'Food', 'bird': 'Host', 'citrus fruit': 'Host', 'Siberia': 'Geographical', 'improperly cooked shellfish': 'Food', 'island of Malta': 'Geographical', 'muds of ponds': 'Environment', 'brain abscess': 'HostPart', 'goats': 'Host', 'oral cavity': 'HostPart', 'mice': 'Host', 'herbivores': 'Host', 'branchial': 'HostPart', 'milk': 'Food', 'arthropods': 'Host', 'macrophages': 'HostPart', 'ear': 'HostPart', 'Baltic Sea': 'Geographical', 'trypanosome': 'Host', 'polar flagellum': 'HostPart', 'Amazon rain forest': 'Environment', 'specialized light': 'HostPart', 'mammary gland': 'HostPart', 'breeding sites for the mosquitoes': 'Environment', 'marine waters': 'Water', 'human urogenital tract': 'HostPart', 'invertebrates': 'Host', 'CBiB': 'Geographical', 'American elm': 'Host', 'US': 'Geographical', 'researchers': 'Host', 'invertebrate species': 'Host', 'liquid medium': 'Environment', 'feco': 'Environment', 'fecal leukocytes': 'HostPart', 'unamended control soil': 'Soil', 'warm': 'Host', 'muscle': 'HostPart', 'Transcriptome': 'Geographical', 'gut peritrophic membrane of the tsetse fly': 'HostPart', 'soil saprophytes': 'Environment', 'England': 'Geographical', 'marine': 'Water', 'potato': 'Host', 'termite': 'Host', 'Norway': 'Geographical', 'dairy products': 'Food', 'Glomus vesiculiferum': 'Host', 'root zone': 'HostPart', 'microorganism': 'Host', 'Sanger Centre': 'Geographical', 'tsetse host cell': 'HostPart', 'Boyce Thompson Institute for Plant Research': 'Geographical', 'axial filaments': 'HostPart', 'zones': 'Environment', 'Pulmonary': 'HostPart', 'leaf': 'HostPart', 'stools': 'Environment', 'lesions': 'HostPart', 'reptiles': 'Host', 'alcoholic patients': 'Host', 'respiratory therapy items': 'Medical', 'mucosa': 'HostPart', 'intestinal mucosa': 'HostPart', 'fruit fly': 'Host', 'infectious saliva': 'HostPart', 'calf': 'Host', 'machinery': 'Environment', 'commercial citrus cultivars': 'Host', 'Korea': 'Geographical', 'squids': 'Host', 'contaminated milk': 'Food', 'patients with cystic fibrosis': 'Host', 'eukaryotic hosts': 'Host', 'activated sludge': 'Environment', 'thermal spring in New Zealand': 'Water', 'endosymbionts': 'HostPart', 'intracellular': 'HostPart', 'Lycopersicon esculentum': 'Host', 'guinea pigs': 'Host', 'Brazilian savannah': 'Environment', 'animals': 'Host', 'Egypt': 'Geographical', 'oleander': 'Host', 'infected mammal': 'Host', 'eschar': 'HostPart', 'host cell': 'HostPart', 'of the tsetse fly': 'HostPart', 'contaminated': 'Food', 'intestinal': 'HostPart', 'parasitic nematodes': 'Host', 'grapevine': 'Host', 'lymphatic system': 'HostPart', 'US dairy cattle': 'Host', 'patients with cystic fibrosis and certain granulomatous diseases': 'Host', 'oysters': 'Food', 'joint': 'HostPart', 'experimental mixture of PCBs': 'Environment', 'salt water': 'Water', 'habitats with an oxygen level lower than ': 'Environment', 'worms': 'Host', 'males': 'Host', 'joints': 'HostPart', 'heart': 'HostPart', 'infected mice': 'Host', 'respiratory tree': 'HostPart', 'surface of certain cheeses': 'Food', 'ant': 'Host', 'plant root systems': 'HostPart', 'ticks': 'Host', 'human body': 'HostPart', 'goose': 'Host', 'outside of hospital': 'Environment', 'Indonesia': 'Geographical', 'juice extracted from the sugar cane': 'Environment', 'broncho': 'HostPart', 'Toulouse Genopole': 'Geographical', 'microbes': 'Host', 'females': 'Host', 'ENVT lab': 'Geographical', 'bloody': 'HostPart', 'intracellularly': 'HostPart', 'soil rhizospheres': 'Soil', 'sea floor': 'Environment', 'lungs': 'HostPart', 'solid surface': 'Environment', 'Southeast Asia': 'Geographical', 'interior of human cells': 'HostPart', 'mammals': 'Host', 'vascular tissues': 'HostPart', 'salmonides': 'Host', 'Phyllocnistis citrella': 'Host', 'medicines for digestive problems': 'Medical', 'large intestines': 'HostPart', 'kidney': 'HostPart', 'white males of middle age': 'Host', 'plants': 'Host', 'Hungary': 'Geographical', 'bobtail squid': 'Host', 'western United States': 'Geographical', 'expert annotators from the collaborating groups': 'Host', 'mucous flow': 'HostPart', 'Amazon rainforest': 'Environment', 'Western hemisphere': 'Geographical', 'cytoplasmic membrane': 'HostPart', 'Genoscope': 'Geographical', 'individuals': 'Host', 'termites': 'Host', 'Canada': 'Geographical', 'urogenital area': 'HostPart', 'mulberry': 'Host', 'feces': 'HostPart', 'tomato': 'Host', 'factory': 'Environment', 'boils': 'HostPart', 'Ithaca': 'Geographical', 'Cerrado': 'Environment', 'filaments': 'HostPart', 'Patients': 'Host', 'microorganisms': 'Host', 'wound': 'HostPart', 'luminescent fish': 'Host', 'chromosome': 'HostPart', 'bacteriocytes': 'HostPart', 'open wound': 'HostPart', 'fruits': 'HostPart', 'flagellar apparatus': 'HostPart', 'lung': 'HostPart', 'rice': 'Host', 'water column': 'Water', 'phototrophs': 'Host', 'cell surface': 'HostPart', 'endosymbionts for the tsetse fly': 'HostPart', 'root': 'HostPart', 'western Washington': 'Geographical', 'Kenya': 'Geographical', 'mites': 'Host', 'kidneys': 'HostPart', 'pulmonary': 'HostPart', 'Microorganisms': 'Host', 'cooling tower of a sugar': 'Environment', 'fat body of the insect': 'HostPart', 'soft tick': 'Host', 'olives': 'Host', 'cell wall': 'HostPart', 'Non': 'Host', 'periplasmic flagella': 'HostPart', 'medicine to help digest food': 'Medical', 'US states': 'Geographical', 'respiratory tract of animals': 'HostPart', 'bite of blood': 'HostPart', 'arthropod': 'Host', 'bedside water bottles': 'Medical', 'intensive care unit patients in the United States': 'Host', 'vegetables': 'Food', 'nematodes': 'Host', 'Institut Pasteur': 'Geographical', 'tracts': 'HostPart', 'person': 'Host', 'endosymbiont of Brugia malayi': 'HostPart', 'Sugar cane': 'Host', 'North America': 'Geographical', 'tree': 'Host', 'decorative trees': 'Host', 'warm coastal waters': 'Water', 'ileum': 'HostPart', 'upstate NY': 'Geographical', 'fat body': 'HostPart', 'Ixodes ricinus': 'Host', 'pipes': 'Environment', 'marine areas in Shiaskotan Island in Russia': 'Water', 'dead': 'Environment', 'glutamine': 'Environment', 'gill': 'HostPart', 'rodent': 'Host', 'leaves': 'HostPart', 'fluids': 'HostPart', 'offspring of uninfected females': 'Host', 'French hospital': 'Medical', 'phagolysozome': 'HostPart', 'vaginal': 'HostPart', 'intestinal tract of humans': 'HostPart', 'Glomus vesiculiferum ': 'Host', 'seafood': 'Food', 'lymphatic': 'HostPart', 'endospores': 'HostPart', 'urinary': 'HostPart', 'fish': 'Host', 'oak': 'Host', 'healthy plants': 'Host', 'vaccines': 'Medical', 'infected rodent': 'Host', 'heavy metals': 'Environment', 'Aedes albopictus': 'Host', 'Gotland Deep': 'Geographical', 'oranges': 'Host', 'endophytically': 'HostPart', 'patients who also have cirrhosis': 'Host', 'ABF systems': 'Environment', 'Oregon': 'Geographical', 'field': 'Environment', 'animal tissue': 'HostPart', 'amoebas': 'Host', 'earth': 'Soil', 'haemolymph': 'HostPart', 'aqueous': 'Water', 'acid mine drainage': 'Water', 'inter': 'HostPart', 'Bengali': 'Geographical', 'sequencing centers': 'Environment', 'intracellularly in amoebas': 'HostPart', 'poultry': 'Food', 'root nodules': 'HostPart', 'Children under ': 'Host', 'consumer': 'Host', 'rodent nests': 'Environment', 'feeder cell': 'HostPart', 'surfaces': 'Environment', 'maple': 'Host', 'Cutaneous': 'HostPart', 'mammalian host': 'Host', 'Paris': 'Geographical', 'industrialized countries of the Northern Hemisphere': 'Geographical', 'wild': 'Host', 'endosymbionts of insects': 'HostPart', 'immunodeficient hosts': 'Host', 'Arabidopsis thaliana': 'Host', 'rhizospheres': 'HostPart', 'Bordeaux ': 'Geographical', 'Palm Oil Mill': 'Environment', 'ovaries': 'HostPart', 'Northern Australia': 'Geographical', 'pupal': 'Host', 'contaminated meat': 'Food', 'membrane': 'HostPart', 'pest': 'Host', 'spores': 'HostPart', 'deep low oxic and nitrate rich water': 'Water', 'outer sheath': 'HostPart', 'lower respiratory tract of newborn infants': 'HostPart', 'marine environment': 'Water', 'NREL': 'Geographical', 'granulomatous': 'HostPart', 'University of Glasgow': 'Geographical', 'illuminated': 'Water', 'termite gut': 'HostPart', 'infected ticks': 'Host', 'water': 'Water', 'immune system': 'HostPart', 'decaying matter': 'Environment', 'papule': 'HostPart', 'vascular tissue': 'HostPart', 'mesenteric lymph nodes': 'HostPart', 'endosymbiont of the tsetse fly': 'HostPart', 'environmental surface water': 'Water', 'goat': 'Host', 'Ethiopia': 'Geographical', 'TIGR': 'Geographical', 'man': 'Host', 'tubular sheath': 'HostPart', 'newborn': 'Host', 'cities': 'Environment', 'cutaneous': 'HostPart', 'all continents': 'Geographical', 'areas with high sulfur and salt concentrations': 'Environment', 'roots': 'HostPart', 'spore': 'HostPart', 'animal': 'Host', 'Russia': 'Geographical', 'acidophile': 'Environment', 'soil rhizosphere': 'Soil'}\n"
     ]
    }
   ],
   "source": [
    "import re, glob\n",
    "dirname='/media/DATA/Master/Analyse_donnees_text/data_suj1/train/'\n",
    "d_entities={}\n",
    "p=re.compile(r'\\d+\\t([A-Za-z]+)\\s\\d+-\\d+\\s([A-Za-z ]+)(\\s\\d+-\\d+\\s([A-Za-z ]+))?')\n",
    "\n",
    "files=glob.glob(dirname+'*.ent')\n",
    "for file in files:\n",
    "    with open(file, 'r') as fichier:\n",
    "        for line in fichier:\n",
    "            m=p.match(line)\n",
    "            if not m: break; \n",
    "            cat = m.group(1)\n",
    "            nom = m.group(2)\n",
    "            if cat =='Bacteria': continue;\n",
    "            if nom not in d_entities:\n",
    "                d_entities[nom]=cat\n",
    "            if m.group(4) is not None and m.group(4) not in d_entities:\n",
    "                d_entities[m.group(4)]=cat\n",
    "                \n",
    "print(d_entities)\n"
   ]
  },
  {
   "cell_type": "code",
   "execution_count": 20,
   "metadata": {
    "collapsed": false
   },
   "outputs": [
    {
     "name": "stdout",
     "output_type": "stream",
     "text": [
      "in root nodulation\n"
     ]
    }
   ],
   "source": [
    "import nltk\n",
    "from nltk.tokenize import sent_tokenize, word_tokenize\n",
    "\n",
    "#for file in files:\n",
    "file='/media/DATA/Master/Analyse_donnees_text/data_suj1/dev/BTID-10095.txt'\n",
    "with open(file, 'r') as fichier:\n",
    "    text=fichier.read()\n",
    "    words=word_tokenize(text, 'english')\n",
    "    tagged=nltk.pos_tag(words)\n",
    "    #print(tagged)\n",
    "    compteur = 0\n",
    "    for mot in tagged:\n",
    "        #print(mot[0])\n",
    "        if mot[0] == 'in':\n",
    "            if tagged[compteur+1][1]== 'NN' and tagged[compteur+2][1]== 'NN':\n",
    "                print(mot[0] + ' ' +tagged[compteur+1][0] + ' ' + tagged[compteur+2][0])\n",
    "        compteur += 1\n",
    "       \n",
    "    \n",
    "    "
   ]
  },
  {
   "cell_type": "code",
   "execution_count": 21,
   "metadata": {
    "collapsed": false
   },
   "outputs": [],
   "source": [
    "#import nltk\n",
    "#nltk.download()"
   ]
  },
  {
   "cell_type": "code",
   "execution_count": null,
   "metadata": {
    "collapsed": true
   },
   "outputs": [],
   "source": []
  }
 ],
 "metadata": {
  "kernelspec": {
   "display_name": "Python 3",
   "language": "python",
   "name": "python3"
  },
  "language_info": {
   "codemirror_mode": {
    "name": "ipython",
    "version": 3
   },
   "file_extension": ".py",
   "mimetype": "text/x-python",
   "name": "python",
   "nbconvert_exporter": "python",
   "pygments_lexer": "ipython3",
   "version": "3.5.2"
  }
 },
 "nbformat": 4,
 "nbformat_minor": 1
}
